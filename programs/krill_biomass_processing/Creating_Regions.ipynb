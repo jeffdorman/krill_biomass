{
 "cells": [
  {
   "cell_type": "code",
   "execution_count": 1,
   "metadata": {},
   "outputs": [
    {
     "name": "stdout",
     "output_type": "stream",
     "text": [
      "   FNODE_  TNODE_  LPOLY_  RPOLY_   LENGTH  CAORWALL_  CAORWALL_I    LTYPE  \\\n",
      "0      52      53       1       1  0.01345          1           2  isobath   \n",
      "1      46      47       1       1  0.04655          2           6  isobath   \n",
      "\n",
      "   INCREM  DEPTH                                           geometry  \n",
      "0    2300  -2300  LINESTRING (-129.56964 49.00065, -129.56426 48...  \n",
      "1    2500  -2500  LINESTRING (-129.79243 49.00065, -129.77087 48...  \n"
     ]
    }
   ],
   "source": [
    "#create Regions\n",
    "from shapely.geometry import Point\n",
    "from shapely.geometry.polygon import Polygon\n",
    "import geopandas as gpd\n",
    "\n",
    "shapefile = gpd.read_file(\"../../input_data/ca_or_wa_bathymetry/caorwall.shp\")\n",
    "#print(shapefile)\n",
    "print(shapefile.head(2))\n",
    "#%matplotlib inline\n",
    "#shapefile.plot()\n",
    "#print(shapefile['INCREM'].head())"
   ]
  },
  {
   "cell_type": "code",
   "execution_count": 4,
   "metadata": {},
   "outputs": [
    {
     "data": {
      "image/svg+xml": [
       "<svg xmlns=\"http://www.w3.org/2000/svg\" xmlns:xlink=\"http://www.w3.org/1999/xlink\" width=\"100.0\" height=\"100.0\" viewBox=\"-123.58348678281936 48.80714759180975 0.026195129186220356 0.02265020574144927\" preserveAspectRatio=\"xMinYMin meet\"><g transform=\"matrix(1,0,0,-1,0,97.63694538936096)\"><polyline fill=\"none\" stroke=\"#66cc99\" stroke-width=\"0.0005239025837244072\" points=\"-123.56130592489762,48.808117781779615 -123.5590018007107,48.808827356492934 -123.55839907893814,48.8093766861063 -123.558261843603,48.81218813928492 -123.56216064032925,48.813778817606426 -123.56464795357695,48.81532755614139 -123.56718863533754,48.81575857993285 -123.57247605042636,48.81812743992197 -123.57353662799335,48.81984786339833 -123.57597076420426,48.82815629216288 -123.5768024133658,48.828736116999416 -123.58079271121345,48.82882760758134 -123.58199814183814,48.82734747604403 -123.5824786746675,48.823418303664816 -123.58195219799936,48.822468445884724 -123.5825165928495,48.81665861368833 -123.5811966017777,48.8147474581461 -123.57758009645683,48.81297748344005 -123.57449006782919,48.81215736651492 -123.57065226356433,48.80925823720021 -123.56925602054578,48.80866697704022 -123.56642541189925,48.80822832833679 -123.56130592489762,48.808117781779615\" opacity=\"0.8\" /></g></svg>"
      ],
      "text/plain": [
       "<shapely.geometry.linestring.LineString at 0x11befc9b0>"
      ]
     },
     "execution_count": 4,
     "metadata": {},
     "output_type": "execute_result"
    }
   ],
   "source": [
    "loar=(shapefile['DEPTH']==-200)\n",
    "jeff=shapefile[loar]\n",
    "#jeff\n",
    "#%matplotlib inline\n",
    "#jeff.plot()\n",
    "jeff.iloc[4,10]"
   ]
  }
 ],
 "metadata": {
  "kernelspec": {
   "display_name": "Python 3",
   "language": "python",
   "name": "python3"
  },
  "language_info": {
   "codemirror_mode": {
    "name": "ipython",
    "version": 3
   },
   "file_extension": ".py",
   "mimetype": "text/x-python",
   "name": "python",
   "nbconvert_exporter": "python",
   "pygments_lexer": "ipython3",
   "version": "3.7.3"
  }
 },
 "nbformat": 4,
 "nbformat_minor": 2
}
