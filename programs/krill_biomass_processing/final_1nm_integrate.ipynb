{
 "cells": [
  {
   "cell_type": "code",
   "execution_count": 1,
   "metadata": {},
   "outputs": [],
   "source": [
    "#final_1nm_integrate\n",
    "import numpy as np\n",
    "import pandas as pd\n",
    "import matplotlib.pyplot as plt\n",
    "import statistics as st\n",
    "import time as time\n",
    "\n",
    "from IPython.core.interactiveshell import InteractiveShell\n",
    "InteractiveShell.ast_node_interactivity = \"last\"\n",
    "#other options include 'none', 'last', 'last_expr'\n",
    "fname1='../../data/20120522b_BP12cons2_no200_500m_'\n",
    "fname2='0.25nmi.csv'\n",
    "fname3='1nmi.csv'\n",
    "df1=pd.read_csv(fname1+fname2)  \n",
    "df2=pd.DataFrame(columns=df1.columns)\n",
    "#df2=df1.copy(deep=True)\n",
    "#df2.drop(df2[df2[' Layer']!=2].index, inplace=True)\n",
    "#df2=df2.reset_index(drop=True)\n",
    "\n",
    "#print(fname1)"
   ]
  },
  {
   "cell_type": "code",
   "execution_count": 2,
   "metadata": {},
   "outputs": [
    {
     "name": "stderr",
     "output_type": "stream",
     "text": [
      "/Users/jeffdorman/anaconda3/lib/python3.7/site-packages/ipykernel_launcher.py:24: RuntimeWarning: Mean of empty slice\n",
      "/Users/jeffdorman/anaconda3/lib/python3.7/site-packages/ipykernel_launcher.py:26: RuntimeWarning: All-NaN axis encountered\n",
      "/Users/jeffdorman/anaconda3/lib/python3.7/site-packages/ipykernel_launcher.py:27: RuntimeWarning: All-NaN axis encountered\n",
      "/Users/jeffdorman/anaconda3/lib/python3.7/site-packages/ipykernel_launcher.py:61: RuntimeWarning: invalid value encountered in true_divide\n"
     ]
    }
   ],
   "source": [
    "df1=df1.replace([-9999.0, -9998.0, 9999.0, -999.0, 999.0], np.nan)\n",
    "df1_interval=np.nanmax(df1[' Interval'])\n",
    "mx_interval_int=int(df1_interval)\n",
    "\n",
    "\n",
    "\n",
    "rec_cnt=0\n",
    "sidx=0\n",
    "eidx=0\n",
    "\n",
    "\n",
    "while eidx < mx_interval_int-1:\n",
    "    \n",
    "    st_dist=df1.iloc[sidx,df1.columns.get_loc(' Dist_S')]  #Start Distance\n",
    "    dist=df1[' Dist_E']-st_dist  #Creates a list of distances\n",
    "    cond=(dist > 0) & (dist < 1.125)\n",
    "    tup_idx=np.where(cond)\n",
    "    idx = np.concatenate(tup_idx).tolist()\n",
    "    sidx=idx[0]  # start index\n",
    "    eidx=idx[-1] # end index\n",
    "\n",
    "    df2 = df2.append(df1.iloc[sidx,:], ignore_index=True)\n",
    "\n",
    "    df2.iloc[rec_cnt,df2.columns.get_loc(' NASC')] =np.nanmean((df1[' NASC'])[idx])\n",
    "\n",
    "    df2.iloc[rec_cnt,df2.columns.get_loc(' Sv_max')]=np.nanmax((df1[' Sv_max'])[idx])\n",
    "    df2.iloc[rec_cnt,df2.columns.get_loc(' Sv_min')]=np.nanmin((df1[' Sv_min'])[idx])\n",
    "\n",
    "    #df2.iloc[rec_cnt,df2.columns.get_loc(' Height_mean')]=np.nanmean((df1[' Height_mean'])[idx])\n",
    "    #df2.iloc[rec_cnt,df2.columns.get_loc(' Depth_mean')]=np.nanmean((df1[' Depth_mean'])[idx])\n",
    "    df2.iloc[rec_cnt,df2.columns.get_loc(' Samples')]=np.nansum((df1[' Samples'])[idx])\n",
    "    df2.iloc[rec_cnt,df2.columns.get_loc(' Layer_depth_max')]=np.nanmax((df1[' Layer_depth_max'])[idx])\n",
    "    df2.iloc[rec_cnt,df2.columns.get_loc(' Layer_depth_min')]=np.nanmin((df1[' Layer_depth_min'])[idx])\n",
    "\n",
    "\n",
    "    df2.iloc[rec_cnt,df2.columns.get_loc(' Ping_E')]=df1[' Ping_E'][eidx]\n",
    "    df2.iloc[rec_cnt,df2.columns.get_loc(' Ping_M')]=round(df1[' Ping_S'][sidx] + ((df1[' Ping_E'][eidx] - df1[' Ping_S'][sidx])/2))\n",
    "\n",
    "    df2.iloc[rec_cnt,df2.columns.get_loc(' Dist_E')]=df1[' Dist_E'][eidx]\n",
    "    df2.iloc[rec_cnt,df2.columns.get_loc(' Dist_M')]=df1[' Dist_S'][sidx] + ((df1[' Dist_E'][eidx] - df1[' Dist_S'][sidx])/2)\n",
    "\n",
    "    df2.iloc[rec_cnt,df2.columns.get_loc(' VL_end')]=df1[' VL_end'][eidx]\n",
    "    df2.iloc[rec_cnt,df2.columns.get_loc(' VL_mid')]=df1[' VL_start'][sidx] + ((df1[' VL_end'][eidx] - df1[' VL_start'][sidx])/2)\n",
    "\n",
    "    df2.iloc[rec_cnt,df2.columns.get_loc(' Date_E')]=df1[' Date_E'][eidx]\n",
    "    df2.iloc[rec_cnt,df2.columns.get_loc(' Date_M')]=round(df1[' Date_S'][sidx] + ((df1[' Date_E'][eidx] - df1[' Date_S'][sidx])/2))\n",
    "\n",
    "    df2.iloc[rec_cnt,df2.columns.get_loc(' Time_E')]=df1[' Time_E'][eidx]\n",
    "    df2.iloc[rec_cnt,df2.columns.get_loc(' Time_M')]=-9998.0  #currently strings so can't manipulate them\n",
    "\n",
    "    df2.iloc[rec_cnt,df2.columns.get_loc(' Lon_E')]=df1[' Lon_E'][eidx]\n",
    "    df2.iloc[rec_cnt,df2.columns.get_loc(' Lon_M')]=df1[' Lon_S'][sidx] + ((df1[' Lon_E'][eidx] - df1[' Lon_S'][sidx])/2)\n",
    "\n",
    "    df2.iloc[rec_cnt,df2.columns.get_loc(' Lat_E')]=df1[' Lat_E'][eidx]\n",
    "    df2.iloc[rec_cnt,df2.columns.get_loc(' Lat_M')]=df1[' Lat_S'][sidx] + ((df1[' Lat_E'][eidx] - df1[' Lat_S'][sidx])/2)\n",
    "\n",
    "    df2.iloc[rec_cnt,df2.columns.get_loc(' Exclude_below_line_depth_mean')] =np.nanmean((df1[' Exclude_below_line_depth_mean'])[idx])\n",
    "    df2.iloc[rec_cnt,df2.columns.get_loc(' ABC')] =np.nansum((df1[' ABC'])[idx])\n",
    "    df2.iloc[rec_cnt,df2.columns.get_loc(' ABC_noise')] =0\n",
    "\n",
    "    df2.iloc[rec_cnt,df2.columns.get_loc(' Thickness_mean')]=np.true_divide(sum(df1[' Thickness_mean'][idx]), sum(df1[' Thickness_mean'][idx]!=0))\n",
    "    df2.iloc[rec_cnt,df2.columns.get_loc(' Exclude_below_line_range_mean')]=np.nanmax((df1[' Exclude_below_line_range_mean'])[idx])\n",
    "    df2.iloc[rec_cnt,df2.columns.get_loc(' Beam_volume_sum')]=np.nansum((df1[' Beam_volume_sum'])[idx])\n",
    "\n",
    "    df2.iloc[rec_cnt,df2.columns.get_loc(' No_data_samples')]=np.nansum((df1[' No_data_samples'])[idx])\n",
    "\n",
    "    rec_cnt=rec_cnt+1\n",
    "    sidx=eidx+1\n",
    "    #print('edix = ', eidx)\n",
    "    #print('rec_cnt = ', rec_cnt)\n"
   ]
  },
  {
   "cell_type": "code",
   "execution_count": 3,
   "metadata": {},
   "outputs": [],
   "source": [
    "df2=df2.fillna(value=-9999.0)\n",
    "df2\n",
    "df2.to_csv (fname1+fname3, index = False, header=True)\n"
   ]
  }
 ],
 "metadata": {
  "kernelspec": {
   "display_name": "Python 3",
   "language": "python",
   "name": "python3"
  },
  "language_info": {
   "codemirror_mode": {
    "name": "ipython",
    "version": 3
   },
   "file_extension": ".py",
   "mimetype": "text/x-python",
   "name": "python",
   "nbconvert_exporter": "python",
   "pygments_lexer": "ipython3",
   "version": "3.7.3"
  }
 },
 "nbformat": 4,
 "nbformat_minor": 2
}
