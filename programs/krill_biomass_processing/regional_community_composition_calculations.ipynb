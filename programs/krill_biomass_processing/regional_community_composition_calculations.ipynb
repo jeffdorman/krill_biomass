{
 "cells": [
  {
   "cell_type": "code",
   "execution_count": 1,
   "metadata": {},
   "outputs": [],
   "source": [
    "import numpy as np\n",
    "import pandas as pd\n",
    "import matplotlib.pyplot as plt\n",
    "import statistics as st\n",
    "import time as time\n",
    "from datetime import datetime\n",
    "from datetime import timedelta\n",
    "from shapely.geometry import Point\n",
    "from shapely.geometry.polygon import Polygon\n",
    "import geopandas as gpd\n",
    "import oceansdb\n",
    "\n",
    "from IPython.core.interactiveshell import InteractiveShell\n",
    "InteractiveShell.ast_node_interactivity = \"last\"\n",
    "\n",
    "#Load Data\n",
    "fname='../../input_data/krill_net_data/CorrectMasterKrill.csv'\n",
    "df1=pd.read_csv(fname)\n",
    "df1['Ratio']=df1['T..SPINIFERA']/df1['KRILL_TOTAL']\n",
    "df1['NET_IN_TIME']=pd.to_datetime(df1['NET_IN_TIME'], format='%m/%d/%y %H:%M')\n",
    "\n",
    "\n",
    "loar=df1['KRILL_TOTAL']>=100\n",
    "df2=df1[loar]"
   ]
  },
  {
   "cell_type": "code",
   "execution_count": 2,
   "metadata": {},
   "outputs": [],
   "source": [
    "#Set Up Regions\n",
    "#Region 1 - Southern California Onshore\n",
    "#fname=\"../../input_data/regions_200m_isobath/CA_region_southern_nearshore.shp\"\n",
    "#r1_shapefile = gpd.read_file(fname)\n",
    "#r1 = Polygon(r1_shapefile.iloc[0,5])\n",
    "\n",
    "#Region 2 - Southern California Offshore\n",
    "fname=\"../../input_data/regions_200m_isobath/CA_region_southern_offshore.shp\"\n",
    "r2_shapefile = gpd.read_file(fname)\n",
    "r2 = Polygon(r2_shapefile.iloc[0,5])\n",
    "\n",
    "#Region 3 - Southern California Onshore\n",
    "fname=\"../../input_data/regions_200m_isobath/CA_region_central_nearshore.shp\"\n",
    "r3_shapefile = gpd.read_file(fname)\n",
    "r3 = Polygon(r3_shapefile.iloc[0,5])\n",
    "\n",
    "#Region 4 - Southern California Offshore\n",
    "fname=\"../../input_data/regions_200m_isobath/CA_region_central_offshore.shp\"\n",
    "r4_shapefile = gpd.read_file(fname)\n",
    "r4 = Polygon(r4_shapefile.iloc[0,5])\n",
    "\n",
    "#Region 5 - Southern California Onshore\n",
    "fname=\"../../input_data/regions_200m_isobath/CA_region_northcentral_nearshore.shp\"\n",
    "r5_shapefile = gpd.read_file(fname)\n",
    "r5 = Polygon(r5_shapefile.iloc[0,5])\n",
    "\n",
    "#Region 6 - Southern California Offshore\n",
    "fname=\"../../input_data/regions_200m_isobath/CA_region_northcentral_offshore.shp\"\n",
    "r6_shapefile = gpd.read_file(fname)\n",
    "r6 = Polygon(r6_shapefile.iloc[0,5])\n",
    "\n",
    "#Region 7 - Southern California Onshore\n",
    "fname=\"../../input_data/regions_200m_isobath/CA_region_northern_nearshore.shp\"\n",
    "r7_shapefile = gpd.read_file(fname)\n",
    "r7 = Polygon(r7_shapefile.iloc[0,5])\n",
    "\n",
    "#Region 8 - Southern California Offshore\n",
    "fname=\"../../input_data/regions_200m_isobath/CA_region_northern_offshore.shp\"\n",
    "r8_shapefile = gpd.read_file(fname)\n",
    "r8 = Polygon(r8_shapefile.iloc[0,5])"
   ]
  },
  {
   "cell_type": "code",
   "execution_count": 12,
   "metadata": {},
   "outputs": [],
   "source": [
    "region=list()\n",
    "\n",
    "for i in df2.index:\n",
    "    lat=df2.loc[i]['Lat']\n",
    "    lon=df2.loc[i]['Long']\n",
    "    if r8.contains(Point(lon,lat)):\n",
    "        reg=8\n",
    "    elif r2.contains(Point(lon,lat)):\n",
    "        reg=2\n",
    "    elif r3.contains(Point(lon,lat)):\n",
    "        reg=3\n",
    "    elif r4.contains(Point(lon,lat)):\n",
    "        reg=4\n",
    "    elif r5.contains(Point(lon,lat)):\n",
    "        reg=5\n",
    "    elif r6.contains(Point(lon,lat)):\n",
    "        reg=6\n",
    "    elif r7.contains(Point(lon,lat)):\n",
    "        reg=7\n",
    "    else:  # If no Region, move on\n",
    "        reg=10\n",
    "    region.append(reg)           \n"
   ]
  },
  {
   "cell_type": "code",
   "execution_count": 15,
   "metadata": {},
   "outputs": [
    {
     "name": "stdout",
     "output_type": "stream",
     "text": [
      "1381\n"
     ]
    },
    {
     "name": "stderr",
     "output_type": "stream",
     "text": [
      "/Users/jeffdorman/anaconda3/lib/python3.7/site-packages/ipykernel_launcher.py:2: SettingWithCopyWarning: \n",
      "A value is trying to be set on a copy of a slice from a DataFrame.\n",
      "Try using .loc[row_indexer,col_indexer] = value instead\n",
      "\n",
      "See the caveats in the documentation: http://pandas.pydata.org/pandas-docs/stable/indexing.html#indexing-view-versus-copy\n",
      "  \n"
     ]
    }
   ],
   "source": [
    "print(len(region))\n",
    "df2['Region']=region\n"
   ]
  },
  {
   "cell_type": "code",
   "execution_count": 18,
   "metadata": {},
   "outputs": [],
   "source": [
    "n=list()\n",
    "dat=list()\n",
    "for i in range(2,11):\n",
    "    loar=df2['Region']==i\n",
    "    dat.append(np.mean(df2.loc[loar]['Ratio']))\n",
    "    n.append(sum(loar))"
   ]
  },
  {
   "cell_type": "code",
   "execution_count": 20,
   "metadata": {},
   "outputs": [
    {
     "name": "stdout",
     "output_type": "stream",
     "text": [
      "[200, 33, 113, 370, 383, 103, 152, 0, 27]\n",
      "[0.10106966906849095, 0.5353856178316088, 0.062128794683535375, 0.6291027586120636, 0.1227348897096847, 0.42635255126621024, 0.022797976207207235, nan, 0.4329184911389693]\n"
     ]
    }
   ],
   "source": [
    "print(n)\n",
    "print(dat)"
   ]
  }
 ],
 "metadata": {
  "kernelspec": {
   "display_name": "Python 3",
   "language": "python",
   "name": "python3"
  },
  "language_info": {
   "codemirror_mode": {
    "name": "ipython",
    "version": 3
   },
   "file_extension": ".py",
   "mimetype": "text/x-python",
   "name": "python",
   "nbconvert_exporter": "python",
   "pygments_lexer": "ipython3",
   "version": "3.7.3"
  }
 },
 "nbformat": 4,
 "nbformat_minor": 2
}
